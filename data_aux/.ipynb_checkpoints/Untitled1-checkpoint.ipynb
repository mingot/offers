{
 "metadata": {
  "name": "",
  "signature": "sha256:72b3eb6323f8e50245f7f3449a7e21adcb9bc5a927feeca8e4b85a7b961ec682"
 },
 "nbformat": 3,
 "nbformat_minor": 0,
 "worksheets": []
}